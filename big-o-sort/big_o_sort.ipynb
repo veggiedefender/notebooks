{
 "cells": [
  {
   "cell_type": "code",
   "execution_count": 1,
   "metadata": {},
   "outputs": [],
   "source": [
    "from sympy import *\n",
    "import functools\n",
    "\n",
    "init_printing()"
   ]
  },
  {
   "cell_type": "markdown",
   "metadata": {},
   "source": [
    "In my algorithms course, some homework problems ask me to arrange functions with different big-O time complexities in order of their growth rate.\n",
    "\n",
    "We can do this automatically using sympy and sorting a list of functions using a custom comparator function which can compare two functions $f$ and $g$ by exploiting the property that the limit $c = \\lim_{x \\to \\infty} \\frac{f}{g}$ tells us:\n",
    "\n",
    "* If $c = 0$ then $f(n) = \\mathcal{O}(g(n))$\n",
    "* If $c > 0$ then $f(n) = \\Theta(g(n))$\n",
    "* If $c = \\infty$ then $f(n) = \\Omega(g(n))$"
   ]
  },
  {
   "cell_type": "code",
   "execution_count": 2,
   "metadata": {},
   "outputs": [],
   "source": [
    "n = symbols('n')"
   ]
  },
  {
   "cell_type": "code",
   "execution_count": 3,
   "metadata": {},
   "outputs": [],
   "source": [
    "def compare_functions(f, g):\n",
    "    c = limit(f / g, n, oo)\n",
    "    if c == oo:\n",
    "        return 1\n",
    "    if c == 0:\n",
    "        return -1\n",
    "    else:\n",
    "        return 0"
   ]
  },
  {
   "cell_type": "code",
   "execution_count": 4,
   "metadata": {},
   "outputs": [
    {
     "data": {
      "image/png": "[encoded data removed]",
      "text/latex": [
       "$\\displaystyle \\left[ n^{2}, \\  6 \\log{\\left(n \\right)} + 10, \\  n \\log{\\left(n \\right)}, \\  2 \\cdot 2^{n}, \\  \\sqrt{5} \\sqrt{n}\\right]$"
      ],
      "text/plain": [
       "⎡ 2                              n       ⎤\n",
       "⎣n , 6⋅log(n) + 10, n⋅log(n), 2⋅2 , √5⋅√n⎦"
      ]
     },
     "execution_count": 4,
     "metadata": {},
     "output_type": "execute_result"
    }
   ],
   "source": [
    "functions = [\n",
    "    n**2,\n",
    "    6 * log(n) + 10,\n",
    "    n * log(n),\n",
    "    2 * 2**n,\n",
    "    sqrt(5 * n)\n",
    "]\n",
    "functions"
   ]
  },
  {
   "cell_type": "code",
   "execution_count": 5,
   "metadata": {},
   "outputs": [
    {
     "data": {
      "image/png": "[encoded data removed]",
      "text/latex": [
       "$\\displaystyle \\left[ 6 \\log{\\left(n \\right)} + 10, \\  \\sqrt{5} \\sqrt{n}, \\  n \\log{\\left(n \\right)}, \\  n^{2}, \\  2 \\cdot 2^{n}\\right]$"
      ],
      "text/plain": [
       "⎡                                 2     n⎤\n",
       "⎣6⋅log(n) + 10, √5⋅√n, n⋅log(n), n , 2⋅2 ⎦"
      ]
     },
     "execution_count": 5,
     "metadata": {},
     "output_type": "execute_result"
    }
   ],
   "source": [
    "sorted(functions, key=functools.cmp_to_key(compare_functions))"
   ]
  },
  {
   "cell_type": "code",
   "execution_count": null,
   "metadata": {},
   "outputs": [],
   "source": []
  }
 ],
 "metadata": {
  "kernelspec": {
   "display_name": "Python 3",
   "language": "python",
   "name": "python3"
  },
  "language_info": {
   "codemirror_mode": {
    "name": "ipython",
    "version": 3
   },
   "file_extension": ".py",
   "mimetype": "text/x-python",
   "name": "python",
   "nbconvert_exporter": "python",
   "pygments_lexer": "ipython3",
   "version": "3.7.5"
  }
 },
 "nbformat": 4,
 "nbformat_minor": 2
}
