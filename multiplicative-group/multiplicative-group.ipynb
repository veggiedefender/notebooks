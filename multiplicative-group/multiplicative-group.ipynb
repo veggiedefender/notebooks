{
 "cells": [
  {
   "cell_type": "markdown",
   "id": "acquired-distance",
   "metadata": {},
   "source": [
    "## Part II, Problem 4."
   ]
  },
  {
   "cell_type": "markdown",
   "id": "behind-collect",
   "metadata": {},
   "source": [
    "Let $n\\geq 3$ be a positive integer. Prove that $U(2^n)$ is not cyclic."
   ]
  },
  {
   "cell_type": "code",
   "execution_count": 1,
   "id": "covered-tackle",
   "metadata": {},
   "outputs": [],
   "source": [
    "import matplotlib\n",
    "import matplotlib.pyplot as plt\n",
    "from math import gcd\n",
    "from matplotlib.ticker import MaxNLocator\n",
    "from IPython.display import display, Math"
   ]
  },
  {
   "cell_type": "markdown",
   "id": "educated-attribute",
   "metadata": {},
   "source": [
    "**Definition.** Let $n$ be a positive integer. Define $U(n) = \\{ a \\in \\{ 1, \\ldots, n - 1 \\} \\,\\vert\\, \\gcd(a, n) = 1 \\}$ the multiplicative group of integers mod $n$."
   ]
  },
  {
   "cell_type": "code",
   "execution_count": 2,
   "id": "flying-niger",
   "metadata": {},
   "outputs": [],
   "source": [
    "def U(n):\n",
    "    return [a for a in range(n) if gcd(a, n) == 1]"
   ]
  },
  {
   "cell_type": "markdown",
   "id": "organic-apollo",
   "metadata": {},
   "source": [
    "What does $U(2^n)$ look like?"
   ]
  },
  {
   "cell_type": "code",
   "execution_count": 3,
   "id": "closed-liberia",
   "metadata": {},
   "outputs": [
    {
     "data": {
      "text/latex": [
       "$\\displaystyle U(8)$"
      ],
      "text/plain": [
       "<IPython.core.display.Math object>"
      ]
     },
     "metadata": {},
     "output_type": "display_data"
    },
    {
     "name": "stdout",
     "output_type": "stream",
     "text": [
      "[1, 3, 5, 7]\n",
      "\n"
     ]
    },
    {
     "data": {
      "text/latex": [
       "$\\displaystyle U(16)$"
      ],
      "text/plain": [
       "<IPython.core.display.Math object>"
      ]
     },
     "metadata": {},
     "output_type": "display_data"
    },
    {
     "name": "stdout",
     "output_type": "stream",
     "text": [
      "[1, 3, 5, 7, 9, 11, 13, 15]\n",
      "\n"
     ]
    },
    {
     "data": {
      "text/latex": [
       "$\\displaystyle U(32)$"
      ],
      "text/plain": [
       "<IPython.core.display.Math object>"
      ]
     },
     "metadata": {},
     "output_type": "display_data"
    },
    {
     "name": "stdout",
     "output_type": "stream",
     "text": [
      "[1, 3, 5, 7, 9, 11, 13, 15, 17, 19, 21, 23, 25, 27, 29, 31]\n",
      "\n"
     ]
    },
    {
     "data": {
      "text/latex": [
       "$\\displaystyle U(64)$"
      ],
      "text/plain": [
       "<IPython.core.display.Math object>"
      ]
     },
     "metadata": {},
     "output_type": "display_data"
    },
    {
     "name": "stdout",
     "output_type": "stream",
     "text": [
      "[1, 3, 5, 7, 9, 11, 13, 15, 17, 19, 21, 23, 25, 27, 29, 31, 33, 35, 37, 39, 41, 43, 45, 47, 49, 51, 53, 55, 57, 59, 61, 63]\n",
      "\n"
     ]
    },
    {
     "data": {
      "text/latex": [
       "$\\displaystyle U(128)$"
      ],
      "text/plain": [
       "<IPython.core.display.Math object>"
      ]
     },
     "metadata": {},
     "output_type": "display_data"
    },
    {
     "name": "stdout",
     "output_type": "stream",
     "text": [
      "[1, 3, 5, 7, 9, 11, 13, 15, 17, 19, 21, 23, 25, 27, 29, 31, 33, 35, 37, 39, 41, 43, 45, 47, 49, 51, 53, 55, 57, 59, 61, 63, 65, 67, 69, 71, 73, 75, 77, 79, 81, 83, 85, 87, 89, 91, 93, 95, 97, 99, 101, 103, 105, 107, 109, 111, 113, 115, 117, 119, 121, 123, 125, 127]\n",
      "\n"
     ]
    }
   ],
   "source": [
    "for n in range(3, 8):\n",
    "    display(Math(rf'U({2**n})')) # fancy latex headings\n",
    "\n",
    "    print(U(2**n))\n",
    "    print()"
   ]
  },
  {
   "cell_type": "markdown",
   "id": "beautiful-westminster",
   "metadata": {},
   "source": [
    "<details>\n",
    "    <summary>✨ Click for explanation.</summary>\n",
    "    Since the only factors of $2^n$ are powers of $2$, a number will be relatively prime with $2^n$ if it does not have $2$ as a factor, i.e. if it is odd. Therefore $U(2^n)$ is the set of odd numbers between $1$ and $2^n - 1$.\n",
    "</details>"
   ]
  },
  {
   "cell_type": "markdown",
   "id": "universal-burst",
   "metadata": {},
   "source": [
    "## Orders of elements in $U(2^n)$"
   ]
  },
  {
   "cell_type": "markdown",
   "id": "approximate-disabled",
   "metadata": {},
   "source": [
    "A function that computes the order of an element $a$ in $U(n)$ by computing powers of $a$ until we reach the identity:"
   ]
  },
  {
   "cell_type": "code",
   "execution_count": 4,
   "id": "emerging-southwest",
   "metadata": {},
   "outputs": [],
   "source": [
    "def order(a, n):\n",
    "    count = 1\n",
    "    while a != 1:\n",
    "        a = (a * a) % n\n",
    "        count += 1\n",
    "    return count"
   ]
  },
  {
   "cell_type": "code",
   "execution_count": 5,
   "id": "freelance-convert",
   "metadata": {},
   "outputs": [
    {
     "data": {
      "text/latex": [
       "$\\displaystyle \\text{$\\lvert a \\rvert$ for each $a \\in U(8)$}$"
      ],
      "text/plain": [
       "<IPython.core.display.Math object>"
      ]
     },
     "metadata": {},
     "output_type": "display_data"
    },
    {
     "name": "stdout",
     "output_type": "stream",
     "text": [
      "[1, 2, 2, 2]\n",
      "\n"
     ]
    },
    {
     "data": {
      "text/latex": [
       "$\\displaystyle \\text{$\\lvert a \\rvert$ for each $a \\in U(16)$}$"
      ],
      "text/plain": [
       "<IPython.core.display.Math object>"
      ]
     },
     "metadata": {},
     "output_type": "display_data"
    },
    {
     "name": "stdout",
     "output_type": "stream",
     "text": [
      "[1, 3, 3, 2, 2, 3, 3, 2]\n",
      "\n"
     ]
    },
    {
     "data": {
      "text/latex": [
       "$\\displaystyle \\text{$\\lvert a \\rvert$ for each $a \\in U(32)$}$"
      ],
      "text/plain": [
       "<IPython.core.display.Math object>"
      ]
     },
     "metadata": {},
     "output_type": "display_data"
    },
    {
     "name": "stdout",
     "output_type": "stream",
     "text": [
      "[1, 4, 4, 3, 3, 4, 4, 2, 2, 4, 4, 3, 3, 4, 4, 2]\n",
      "\n"
     ]
    },
    {
     "data": {
      "text/latex": [
       "$\\displaystyle \\text{$\\lvert a \\rvert$ for each $a \\in U(64)$}$"
      ],
      "text/plain": [
       "<IPython.core.display.Math object>"
      ]
     },
     "metadata": {},
     "output_type": "display_data"
    },
    {
     "name": "stdout",
     "output_type": "stream",
     "text": [
      "[1, 5, 5, 4, 4, 5, 5, 3, 3, 5, 5, 4, 4, 5, 5, 2, 2, 5, 5, 4, 4, 5, 5, 3, 3, 5, 5, 4, 4, 5, 5, 2]\n",
      "\n"
     ]
    },
    {
     "data": {
      "text/latex": [
       "$\\displaystyle \\text{$\\lvert a \\rvert$ for each $a \\in U(128)$}$"
      ],
      "text/plain": [
       "<IPython.core.display.Math object>"
      ]
     },
     "metadata": {},
     "output_type": "display_data"
    },
    {
     "name": "stdout",
     "output_type": "stream",
     "text": [
      "[1, 6, 6, 5, 5, 6, 6, 4, 4, 6, 6, 5, 5, 6, 6, 3, 3, 6, 6, 5, 5, 6, 6, 4, 4, 6, 6, 5, 5, 6, 6, 2, 2, 6, 6, 5, 5, 6, 6, 4, 4, 6, 6, 5, 5, 6, 6, 3, 3, 6, 6, 5, 5, 6, 6, 4, 4, 6, 6, 5, 5, 6, 6, 2]\n",
      "\n"
     ]
    }
   ],
   "source": [
    "for n in range(3, 8):\n",
    "    display(Math(rf'\\text{{$\\lvert a \\rvert$ for each $a \\in U({2**n})$}}')) # fancy latex headings\n",
    "\n",
    "    u = U(2**n)\n",
    "    u_orders = [order(a, 2**n) for a in u]\n",
    "    print(u_orders)\n",
    "    print()"
   ]
  },
  {
   "cell_type": "code",
   "execution_count": 6,
   "id": "amber-catering",
   "metadata": {},
   "outputs": [
    {
     "data": {
      "image/png": "[encoded data removed]",
      "text/plain": [
       "<Figure size 1080x432 with 6 Axes>"
      ]
     },
     "metadata": {
      "needs_background": "light"
     },
     "output_type": "display_data"
    }
   ],
   "source": [
    "def plot_orders(exponents, num_rows):\n",
    "    fig, axes = plt.subplots(num_rows, len(exponents) // num_rows, figsize=(15, 3 * num_rows))\n",
    "    fig.tight_layout(h_pad=5)\n",
    "\n",
    "    for n, ax in zip(exponents, axes.flatten()):\n",
    "        ax.set_title(rf'Orders of elements in $U({2**n})$')\n",
    "        ax.yaxis.set_major_locator(MaxNLocator(integer=True)) # force integer axis ticks\n",
    "\n",
    "        u = U(2**n)\n",
    "        u_orders = [order(a, 2**n) for a in u]\n",
    "        ax.plot(u, u_orders, '.-')\n",
    "\n",
    "plot_orders([3, 4, 5, 6, 7, 8], num_rows=2)"
   ]
  },
  {
   "cell_type": "code",
   "execution_count": 7,
   "id": "recent-office",
   "metadata": {},
   "outputs": [
    {
     "data": {
      "text/latex": [
       "$\\displaystyle \\text{$(a, \\lvert a \\rvert)$ for each $a \\in U(8)$}$"
      ],
      "text/plain": [
       "<IPython.core.display.Math object>"
      ]
     },
     "metadata": {},
     "output_type": "display_data"
    },
    {
     "name": "stdout",
     "output_type": "stream",
     "text": [
      "[(1, 1), (3, 2), (5, 2), (7, 2)]\n",
      "\n"
     ]
    },
    {
     "data": {
      "text/latex": [
       "$\\displaystyle \\text{$(a, \\lvert a \\rvert)$ for each $a \\in U(16)$}$"
      ],
      "text/plain": [
       "<IPython.core.display.Math object>"
      ]
     },
     "metadata": {},
     "output_type": "display_data"
    },
    {
     "name": "stdout",
     "output_type": "stream",
     "text": [
      "[(1, 1), (3, 3), (5, 3), (7, 2), (9, 2), (11, 3), (13, 3), (15, 2)]\n",
      "\n"
     ]
    },
    {
     "data": {
      "text/latex": [
       "$\\displaystyle \\text{$(a, \\lvert a \\rvert)$ for each $a \\in U(32)$}$"
      ],
      "text/plain": [
       "<IPython.core.display.Math object>"
      ]
     },
     "metadata": {},
     "output_type": "display_data"
    },
    {
     "name": "stdout",
     "output_type": "stream",
     "text": [
      "[(1, 1), (3, 4), (5, 4), (7, 3), (9, 3), (11, 4), (13, 4), (15, 2), (17, 2), (19, 4), (21, 4), (23, 3), (25, 3), (27, 4), (29, 4), (31, 2)]\n",
      "\n"
     ]
    },
    {
     "data": {
      "text/latex": [
       "$\\displaystyle \\text{$(a, \\lvert a \\rvert)$ for each $a \\in U(64)$}$"
      ],
      "text/plain": [
       "<IPython.core.display.Math object>"
      ]
     },
     "metadata": {},
     "output_type": "display_data"
    },
    {
     "name": "stdout",
     "output_type": "stream",
     "text": [
      "[(1, 1), (3, 5), (5, 5), (7, 4), (9, 4), (11, 5), (13, 5), (15, 3), (17, 3), (19, 5), (21, 5), (23, 4), (25, 4), (27, 5), (29, 5), (31, 2), (33, 2), (35, 5), (37, 5), (39, 4), (41, 4), (43, 5), (45, 5), (47, 3), (49, 3), (51, 5), (53, 5), (55, 4), (57, 4), (59, 5), (61, 5), (63, 2)]\n",
      "\n"
     ]
    },
    {
     "data": {
      "text/latex": [
       "$\\displaystyle \\text{$(a, \\lvert a \\rvert)$ for each $a \\in U(128)$}$"
      ],
      "text/plain": [
       "<IPython.core.display.Math object>"
      ]
     },
     "metadata": {},
     "output_type": "display_data"
    },
    {
     "name": "stdout",
     "output_type": "stream",
     "text": [
      "[(1, 1), (3, 6), (5, 6), (7, 5), (9, 5), (11, 6), (13, 6), (15, 4), (17, 4), (19, 6), (21, 6), (23, 5), (25, 5), (27, 6), (29, 6), (31, 3), (33, 3), (35, 6), (37, 6), (39, 5), (41, 5), (43, 6), (45, 6), (47, 4), (49, 4), (51, 6), (53, 6), (55, 5), (57, 5), (59, 6), (61, 6), (63, 2), (65, 2), (67, 6), (69, 6), (71, 5), (73, 5), (75, 6), (77, 6), (79, 4), (81, 4), (83, 6), (85, 6), (87, 5), (89, 5), (91, 6), (93, 6), (95, 3), (97, 3), (99, 6), (101, 6), (103, 5), (105, 5), (107, 6), (109, 6), (111, 4), (113, 4), (115, 6), (117, 6), (119, 5), (121, 5), (123, 6), (125, 6), (127, 2)]\n",
      "\n"
     ]
    },
    {
     "data": {
      "text/latex": [
       "$\\displaystyle \\text{$(a, \\lvert a \\rvert)$ for each $a \\in U(256)$}$"
      ],
      "text/plain": [
       "<IPython.core.display.Math object>"
      ]
     },
     "metadata": {},
     "output_type": "display_data"
    },
    {
     "name": "stdout",
     "output_type": "stream",
     "text": [
      "[(1, 1), (3, 7), (5, 7), (7, 6), (9, 6), (11, 7), (13, 7), (15, 5), (17, 5), (19, 7), (21, 7), (23, 6), (25, 6), (27, 7), (29, 7), (31, 4), (33, 4), (35, 7), (37, 7), (39, 6), (41, 6), (43, 7), (45, 7), (47, 5), (49, 5), (51, 7), (53, 7), (55, 6), (57, 6), (59, 7), (61, 7), (63, 3), (65, 3), (67, 7), (69, 7), (71, 6), (73, 6), (75, 7), (77, 7), (79, 5), (81, 5), (83, 7), (85, 7), (87, 6), (89, 6), (91, 7), (93, 7), (95, 4), (97, 4), (99, 7), (101, 7), (103, 6), (105, 6), (107, 7), (109, 7), (111, 5), (113, 5), (115, 7), (117, 7), (119, 6), (121, 6), (123, 7), (125, 7), (127, 2), (129, 2), (131, 7), (133, 7), (135, 6), (137, 6), (139, 7), (141, 7), (143, 5), (145, 5), (147, 7), (149, 7), (151, 6), (153, 6), (155, 7), (157, 7), (159, 4), (161, 4), (163, 7), (165, 7), (167, 6), (169, 6), (171, 7), (173, 7), (175, 5), (177, 5), (179, 7), (181, 7), (183, 6), (185, 6), (187, 7), (189, 7), (191, 3), (193, 3), (195, 7), (197, 7), (199, 6), (201, 6), (203, 7), (205, 7), (207, 5), (209, 5), (211, 7), (213, 7), (215, 6), (217, 6), (219, 7), (221, 7), (223, 4), (225, 4), (227, 7), (229, 7), (231, 6), (233, 6), (235, 7), (237, 7), (239, 5), (241, 5), (243, 7), (245, 7), (247, 6), (249, 6), (251, 7), (253, 7), (255, 2)]\n",
      "\n"
     ]
    },
    {
     "data": {
      "text/latex": [
       "$\\displaystyle \\text{$(a, \\lvert a \\rvert)$ for each $a \\in U(512)$}$"
      ],
      "text/plain": [
       "<IPython.core.display.Math object>"
      ]
     },
     "metadata": {},
     "output_type": "display_data"
    },
    {
     "name": "stdout",
     "output_type": "stream",
     "text": [
      "[(1, 1), (3, 8), (5, 8), (7, 7), (9, 7), (11, 8), (13, 8), (15, 6), (17, 6), (19, 8), (21, 8), (23, 7), (25, 7), (27, 8), (29, 8), (31, 5), (33, 5), (35, 8), (37, 8), (39, 7), (41, 7), (43, 8), (45, 8), (47, 6), (49, 6), (51, 8), (53, 8), (55, 7), (57, 7), (59, 8), (61, 8), (63, 4), (65, 4), (67, 8), (69, 8), (71, 7), (73, 7), (75, 8), (77, 8), (79, 6), (81, 6), (83, 8), (85, 8), (87, 7), (89, 7), (91, 8), (93, 8), (95, 5), (97, 5), (99, 8), (101, 8), (103, 7), (105, 7), (107, 8), (109, 8), (111, 6), (113, 6), (115, 8), (117, 8), (119, 7), (121, 7), (123, 8), (125, 8), (127, 3), (129, 3), (131, 8), (133, 8), (135, 7), (137, 7), (139, 8), (141, 8), (143, 6), (145, 6), (147, 8), (149, 8), (151, 7), (153, 7), (155, 8), (157, 8), (159, 5), (161, 5), (163, 8), (165, 8), (167, 7), (169, 7), (171, 8), (173, 8), (175, 6), (177, 6), (179, 8), (181, 8), (183, 7), (185, 7), (187, 8), (189, 8), (191, 4), (193, 4), (195, 8), (197, 8), (199, 7), (201, 7), (203, 8), (205, 8), (207, 6), (209, 6), (211, 8), (213, 8), (215, 7), (217, 7), (219, 8), (221, 8), (223, 5), (225, 5), (227, 8), (229, 8), (231, 7), (233, 7), (235, 8), (237, 8), (239, 6), (241, 6), (243, 8), (245, 8), (247, 7), (249, 7), (251, 8), (253, 8), (255, 2), (257, 2), (259, 8), (261, 8), (263, 7), (265, 7), (267, 8), (269, 8), (271, 6), (273, 6), (275, 8), (277, 8), (279, 7), (281, 7), (283, 8), (285, 8), (287, 5), (289, 5), (291, 8), (293, 8), (295, 7), (297, 7), (299, 8), (301, 8), (303, 6), (305, 6), (307, 8), (309, 8), (311, 7), (313, 7), (315, 8), (317, 8), (319, 4), (321, 4), (323, 8), (325, 8), (327, 7), (329, 7), (331, 8), (333, 8), (335, 6), (337, 6), (339, 8), (341, 8), (343, 7), (345, 7), (347, 8), (349, 8), (351, 5), (353, 5), (355, 8), (357, 8), (359, 7), (361, 7), (363, 8), (365, 8), (367, 6), (369, 6), (371, 8), (373, 8), (375, 7), (377, 7), (379, 8), (381, 8), (383, 3), (385, 3), (387, 8), (389, 8), (391, 7), (393, 7), (395, 8), (397, 8), (399, 6), (401, 6), (403, 8), (405, 8), (407, 7), (409, 7), (411, 8), (413, 8), (415, 5), (417, 5), (419, 8), (421, 8), (423, 7), (425, 7), (427, 8), (429, 8), (431, 6), (433, 6), (435, 8), (437, 8), (439, 7), (441, 7), (443, 8), (445, 8), (447, 4), (449, 4), (451, 8), (453, 8), (455, 7), (457, 7), (459, 8), (461, 8), (463, 6), (465, 6), (467, 8), (469, 8), (471, 7), (473, 7), (475, 8), (477, 8), (479, 5), (481, 5), (483, 8), (485, 8), (487, 7), (489, 7), (491, 8), (493, 8), (495, 6), (497, 6), (499, 8), (501, 8), (503, 7), (505, 7), (507, 8), (509, 8), (511, 2)]\n",
      "\n"
     ]
    }
   ],
   "source": [
    "for n in range(3, 10):\n",
    "    display(Math(rf'\\text{{$(a, \\lvert a \\rvert)$ for each $a \\in U({2**n})$}}')) # fancy latex headings\n",
    "\n",
    "    print([(a, order(a, 2**n)) for a in U(2**n)])\n",
    "    print()"
   ]
  },
  {
   "cell_type": "markdown",
   "id": "bizarre-posting",
   "metadata": {},
   "source": [
    "<details>\n",
    "    <summary>✨ What are these elements?</summary>\n",
    "We notice that the elements $2^{n-1}-1$ and $2^{n-1}+1$ always seem to have order two.\n",
    "</details>"
   ]
  },
  {
   "cell_type": "markdown",
   "id": "early-olive",
   "metadata": {},
   "source": [
    "<details>\n",
    "    <summary>✨ They are elements of $U(2^n)$</summary>\n",
    "First consider $2^{n-1}-1$. It is odd, since $2^n$ is even, and it is between $1$ and $2^n$, so it is an element of $U(2^n)$.\n",
    "    \n",
    "Similarly, we can show that $2^{n-1}+1$ is an element of $U(2^n)$\n",
    "</details>"
   ]
  },
  {
   "cell_type": "markdown",
   "id": "remarkable-savage",
   "metadata": {},
   "source": [
    "<details>\n",
    "    <summary>✨ They have order two</summary>\n",
    "Because $n \\geq 3$, we also know that $2^{n-1}-1 \\neq 1$, so it does not have order one.\n",
    "\n",
    "We show that it has order two:\n",
    "\\begin{align*}\n",
    "    (2^{n-1} - 1)^2 &= 2^{2n-2} - 2^n + 1 &\\text{(expand with FOIL)}\\\\\n",
    "    &= 2^n (2^{n-2} - 1) + 1 &\\text{(factor out $2^n$)}\n",
    "\\end{align*}\n",
    "\n",
    "Since $n \\geq 3$, we know that $n - 2 \\geq 1$, therefore $(2^{n-2} - 1)$ is an integer. Then we can write $(2^{n-1}-1)^2 \\bmod 2^n = 1$, so we have shown that it has order two.\n",
    "\n",
    "    \n",
    "We can show using the same process that $2^{n-1}+1$ also has order two.\n",
    "</details"
   ]
  },
  {
   "cell_type": "markdown",
   "id": "still-providence",
   "metadata": {},
   "source": [
    "<details>\n",
    "    <summary>✨ They form subgroups of order two</summary>\n",
    "Then $\\{1,\\, 2^{n-1}-1\\}$ and $\\{1,\\, 2^{n-1}+1\\}$ are subgroups of $U(2^n)$.\n",
    "</details>"
   ]
  },
  {
   "cell_type": "markdown",
   "id": "bottom-geology",
   "metadata": {},
   "source": [
    "<details>\n",
    "    <summary>✨ Conclusion</summary>\n",
    "We have shown that there are at least two subgroups of order two, so the subgroup of order $2$ is not unique. This violates the third claim of the fundamental theorem of cyclic groups, so $U(2^n)$ must not be cyclic.\n",
    "</details>"
   ]
  }
 ],
 "metadata": {
  "kernelspec": {
   "display_name": "Python 3",
   "language": "python",
   "name": "python3"
  },
  "language_info": {
   "codemirror_mode": {
    "name": "ipython",
    "version": 3
   },
   "file_extension": ".py",
   "mimetype": "text/x-python",
   "name": "python",
   "nbconvert_exporter": "python",
   "pygments_lexer": "ipython3",
   "version": "3.9.2"
  }
 },
 "nbformat": 4,
 "nbformat_minor": 5
}
