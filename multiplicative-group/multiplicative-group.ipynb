{
 "cells": [
  {
   "cell_type": "markdown",
   "id": "acquired-distance",
   "metadata": {},
   "source": [
    "## Part II, Problem 4."
   ]
  },
  {
   "cell_type": "markdown",
   "id": "behind-collect",
   "metadata": {},
   "source": [
    "Let $n\\geq 3$ be a positive integer. Prove that $U(2^n)$ is not cyclic."
   ]
  },
  {
   "cell_type": "code",
   "execution_count": null,
   "id": "covered-tackle",
   "metadata": {},
   "outputs": [],
   "source": [
    "import matplotlib\n",
    "import matplotlib.pyplot as plt\n",
    "from math import gcd\n",
    "from matplotlib.ticker import MaxNLocator\n",
    "from IPython.display import display, Math"
   ]
  },
  {
   "cell_type": "markdown",
   "id": "educated-attribute",
   "metadata": {},
   "source": [
    "**Definition.** Let $n$ be a positive integer. Define $U(n) = \\{ a \\in \\{ 1, \\ldots, n - 1 \\} \\,\\vert\\, \\gcd(a, n) = 1 \\}$ the multiplicative group of integers mod $n$."
   ]
  },
  {
   "cell_type": "code",
   "execution_count": null,
   "id": "flying-niger",
   "metadata": {},
   "outputs": [],
   "source": [
    "def U(n):\n",
    "    return [a for a in range(n) if gcd(a, n) == 1]"
   ]
  },
  {
   "cell_type": "markdown",
   "id": "organic-apollo",
   "metadata": {},
   "source": [
    "What does $U(2^n)$ look like?"
   ]
  },
  {
   "cell_type": "code",
   "execution_count": null,
   "id": "closed-liberia",
   "metadata": {},
   "outputs": [],
   "source": [
    "for n in range(3, 8):\n",
    "    display(Math(rf'U({2**n})')) # fancy latex headings\n",
    "\n",
    "    print(U(2**n))\n",
    "    print()"
   ]
  },
  {
   "cell_type": "markdown",
   "id": "beautiful-westminster",
   "metadata": {},
   "source": [
    "<details>\n",
    "    <summary>✨ Click for explanation.</summary>\n",
    "    Since the only factors of $2^n$ are powers of $2$, a number will be relatively prime with $2^n$ if it does not have $2$ as a factor, i.e. if it is odd. Therefore $U(2^n)$ is the set of odd numbers between $1$ and $2^n - 1$.\n",
    "</details>"
   ]
  },
  {
   "cell_type": "markdown",
   "id": "universal-burst",
   "metadata": {},
   "source": [
    "## Orders of elements in $U(2^n)$"
   ]
  },
  {
   "cell_type": "markdown",
   "id": "approximate-disabled",
   "metadata": {},
   "source": [
    "A function that computes the order of an element $a$ in $U(n)$ by computing powers of $a$ until we reach the identity:"
   ]
  },
  {
   "cell_type": "code",
   "execution_count": null,
   "id": "emerging-southwest",
   "metadata": {},
   "outputs": [],
   "source": [
    "def order(a, n):\n",
    "    count = 1\n",
    "    while a != 1:\n",
    "        a = (a * a) % n\n",
    "        count += 1\n",
    "    return count"
   ]
  },
  {
   "cell_type": "code",
   "execution_count": null,
   "id": "freelance-convert",
   "metadata": {},
   "outputs": [],
   "source": [
    "for n in range(3, 10):\n",
    "    display(Math(rf'\\text{{$\\lvert a \\rvert$ for each $a \\in U({2**n})$}}')) # fancy latex headings\n",
    "\n",
    "    u = U(2**n)\n",
    "    u_orders = [order(a, 2**n) for a in u]\n",
    "    print(u_orders)\n",
    "    print()"
   ]
  },
  {
   "cell_type": "code",
   "execution_count": null,
   "id": "amber-catering",
   "metadata": {},
   "outputs": [],
   "source": [
    "def plot_orders(exponents, num_rows):\n",
    "    fig, axes = plt.subplots(num_rows, len(exponents) // num_rows, figsize=(15, 3 * num_rows))\n",
    "    fig.tight_layout(h_pad=5)\n",
    "\n",
    "    for n, ax in zip(exponents, axes.flatten()):\n",
    "        ax.set_title(rf'Orders of elements in $U({2**n})$')\n",
    "        ax.yaxis.set_major_locator(MaxNLocator(integer=True)) # force integer axis ticks\n",
    "\n",
    "        u = U(2**n)\n",
    "        u_orders = [order(a, 2**n) for a in u]\n",
    "        ax.plot(u, u_orders, '.-')\n",
    "\n",
    "plot_orders([3, 4, 5, 6, 7, 8], num_rows=3)"
   ]
  },
  {
   "cell_type": "code",
   "execution_count": null,
   "id": "recent-office",
   "metadata": {},
   "outputs": [],
   "source": [
    "for n in range(3, 10):\n",
    "    display(Math(rf'\\text{{$(a, \\lvert a \\rvert)$ for each $a \\in U({2**n})$}}')) # fancy latex headings\n",
    "\n",
    "    print([(a, order(a, 2**n)) for a in U(2**n)])\n",
    "    print()"
   ]
  },
  {
   "cell_type": "markdown",
   "id": "bizarre-posting",
   "metadata": {},
   "source": [
    "<details>\n",
    "    <summary>✨ What are these elements?</summary>\n",
    "We notice that the elements $2^{n-1}-1$ and $2^{n-1}+1$ always seem to have order two.\n",
    "</details>"
   ]
  },
  {
   "cell_type": "markdown",
   "id": "reported-taylor",
   "metadata": {},
   "source": [
    "<details>\n",
    "    <summary>✨ They are elements of $U(2^n)$</summary>\n",
    "First consider $2^{n-1}-1$. It is odd, since $2^n$ is even, and it is between $1$ and $2^n$, so it is an element of $U(2^n)$.\n",
    "    \n",
    "Similarly, we can show that $2^{n-1}+1$ is an element of $U(2^n)$\n",
    "</details>"
   ]
  },
  {
   "cell_type": "markdown",
   "id": "referenced-elite",
   "metadata": {},
   "source": [
    "<details>\n",
    "    <summary>✨ They have order two</summary>\n",
    "Because $n \\geq 3$, we also know that $2^{n-1}-1 \\neq 1$, so it does not have order one.\n",
    "\n",
    "We show that it has order two:\n",
    "\\begin{align*}\n",
    "    (2^{n-1} - 1)^2 &= 2^{2n-2} - 2^n + 1 &\\text{(expand with FOIL)}\\\\\n",
    "    &= 2^n (2^{n-2} - 1) + 1 &\\text{(factor out $2^n$)}\n",
    "\\end{align*}\n",
    "\n",
    "Since $n \\geq 3$, we know that $n - 2 \\geq 1$, therefore $(2^{n-2} - 1)$ is an integer. Then we can write $(2^{n-1}-1)^2 \\bmod 2^n = 1$, so we have shown that it has order two.\n",
    "\n",
    "    \n",
    "We can show using the same process that $2^{n-1}+1$ also has order two.\n",
    "</details>"
   ]
  },
  {
   "cell_type": "markdown",
   "id": "judicial-document",
   "metadata": {},
   "source": [
    "<details>\n",
    "    <summary>✨ They form subgroups of order two</summary>\n",
    "Then $\\{1,\\, 2^{n-1}-1\\}$ and $\\{1,\\, 2^{n-1}+1\\}$ are subgroups of $U(2^n)$.\n",
    "</details>"
   ]
  },
  {
   "cell_type": "markdown",
   "id": "bottom-geology",
   "metadata": {},
   "source": [
    "<details>\n",
    "    <summary>✨ Conclusion</summary>\n",
    "We have shown that there are at least two subgroups of order two, so the subgroup of order $2$ is not unique. This violates the third claim of the fundamental theorem of cyclic groups, so $U(2^n)$ must not be cyclic.\n",
    "</details>"
   ]
  }
 ],
 "metadata": {
  "kernelspec": {
   "display_name": "Python 3",
   "language": "python",
   "name": "python3"
  },
  "language_info": {
   "codemirror_mode": {
    "name": "ipython",
    "version": 3
   },
   "file_extension": ".py",
   "mimetype": "text/x-python",
   "name": "python",
   "nbconvert_exporter": "python",
   "pygments_lexer": "ipython3",
   "version": "3.9.2"
  }
 },
 "nbformat": 4,
 "nbformat_minor": 5
}
