{
 "cells": [
  {
   "cell_type": "code",
   "execution_count": 1,
   "metadata": {},
   "outputs": [],
   "source": [
    "from sympy import *\n",
    "from sympy.abc import x\n",
    "from IPython.display import display\n",
    "\n",
    "init_printing()"
   ]
  },
  {
   "cell_type": "code",
   "execution_count": 2,
   "metadata": {},
   "outputs": [],
   "source": [
    "from inner_product_space import InnerProductSpace"
   ]
  },
  {
   "cell_type": "code",
   "execution_count": 3,
   "metadata": {},
   "outputs": [],
   "source": [
    "p4_basis = [sympify(1), x, x**2, x**3, x**4]"
   ]
  },
  {
   "cell_type": "markdown",
   "metadata": {},
   "source": [
    "# Interpolation polynomials"
   ]
  },
  {
   "cell_type": "code",
   "execution_count": 4,
   "metadata": {},
   "outputs": [],
   "source": [
    "class Interpolation(InnerProductSpace):\n",
    "    def inner(self, f, g):\n",
    "        return Rational('1/5') * (\n",
    "            f.subs(x, -1) * g.subs(x, -1) +\n",
    "            f.subs(x, Rational('-1/2')) * g.subs(x, Rational('-1/2')) +\n",
    "            f.subs(x, 0) * g.subs(x, 0) +\n",
    "            f.subs(x, Rational('1/2')) * g.subs(x, Rational('1/2')) +\n",
    "            f.subs(x, 1) * g.subs(x, 1)\n",
    "        )"
   ]
  },
  {
   "cell_type": "code",
   "execution_count": 5,
   "metadata": {},
   "outputs": [],
   "source": [
    "interp = Interpolation()"
   ]
  },
  {
   "cell_type": "code",
   "execution_count": 6,
   "metadata": {},
   "outputs": [
    {
     "data": {
      "image/png": "[encoded data removed]",
      "text/latex": [
       "$\\displaystyle \\left[ 1, \\  \\sqrt{2} x, \\  \\frac{\\sqrt{70} \\left(2 x^{2} - 1\\right)}{7}, \\  \\frac{\\sqrt{2} x \\left(20 x^{2} - 17\\right)}{6}, \\  \\frac{\\sqrt{14} \\left(140 x^{4} - 155 x^{2} + 18\\right)}{42}\\right]$"
      ],
      "text/plain": [
       "⎡             ⎛   2    ⎞       ⎛    2     ⎞      ⎛     4        2     ⎞⎤\n",
       "⎢         √70⋅⎝2⋅x  - 1⎠  √2⋅x⋅⎝20⋅x  - 17⎠  √14⋅⎝140⋅x  - 155⋅x  + 18⎠⎥\n",
       "⎢1, √2⋅x, ──────────────, ─────────────────, ──────────────────────────⎥\n",
       "⎣               7                 6                      42            ⎦"
      ]
     },
     "execution_count": 6,
     "metadata": {},
     "output_type": "execute_result"
    }
   ],
   "source": [
    "interp.orthonormalize(p4_basis)"
   ]
  },
  {
   "cell_type": "code",
   "execution_count": 7,
   "metadata": {},
   "outputs": [
    {
     "data": {
      "image/png": "[encoded data removed]",
      "text/latex": [
       "$\\displaystyle \\frac{x^{2} \\left(7 - 4 x^{2}\\right)}{3}$"
      ],
      "text/plain": [
       " 2 ⎛       2⎞\n",
       "x ⋅⎝7 - 4⋅x ⎠\n",
       "─────────────\n",
       "      3      "
      ]
     },
     "execution_count": 7,
     "metadata": {},
     "output_type": "execute_result"
    }
   ],
   "source": [
    "interp.approximate(Abs(x), p4_basis)"
   ]
  },
  {
   "cell_type": "markdown",
   "metadata": {},
   "source": [
    "# Legendre polynomials"
   ]
  },
  {
   "cell_type": "code",
   "execution_count": 8,
   "metadata": {},
   "outputs": [],
   "source": [
    "class Legendre(InnerProductSpace):\n",
    "    def inner(self, f, g):\n",
    "        return integrate(f * g, (x, -1, 1))"
   ]
  },
  {
   "cell_type": "code",
   "execution_count": 9,
   "metadata": {},
   "outputs": [],
   "source": [
    "legendre = Legendre()"
   ]
  },
  {
   "cell_type": "code",
   "execution_count": 10,
   "metadata": {},
   "outputs": [
    {
     "data": {
      "image/png": "[encoded data removed]",
      "text/latex": [
       "$\\displaystyle \\left[ \\frac{\\sqrt{2}}{2}, \\  \\frac{\\sqrt{6} x}{2}, \\  \\frac{\\sqrt{10} \\left(3 x^{2} - 1\\right)}{4}, \\  \\frac{\\sqrt{14} x \\left(5 x^{2} - 3\\right)}{4}, \\  \\frac{3 \\sqrt{2} \\left(35 x^{4} - 30 x^{2} + 3\\right)}{16}\\right]$"
      ],
      "text/plain": [
       "⎡              ⎛   2    ⎞        ⎛   2    ⎞       ⎛    4       2    ⎞⎤\n",
       "⎢√2  √6⋅x  √10⋅⎝3⋅x  - 1⎠  √14⋅x⋅⎝5⋅x  - 3⎠  3⋅√2⋅⎝35⋅x  - 30⋅x  + 3⎠⎥\n",
       "⎢──, ────, ──────────────, ────────────────, ────────────────────────⎥\n",
       "⎣2    2          4                4                     16           ⎦"
      ]
     },
     "execution_count": 10,
     "metadata": {},
     "output_type": "execute_result"
    }
   ],
   "source": [
    "legendre.orthonormalize(p4_basis)"
   ]
  },
  {
   "cell_type": "code",
   "execution_count": 11,
   "metadata": {},
   "outputs": [
    {
     "data": {
      "image/png": "[encoded data removed]",
      "text/latex": [
       "$\\displaystyle - \\frac{105 x^{4}}{128} + \\frac{105 x^{2}}{64} + \\frac{15}{128}$"
      ],
      "text/plain": [
       "       4        2      \n",
       "  105⋅x    105⋅x     15\n",
       "- ────── + ────── + ───\n",
       "   128       64     128"
      ]
     },
     "execution_count": 11,
     "metadata": {},
     "output_type": "execute_result"
    }
   ],
   "source": [
    "legendre.approximate(Abs(x), p4_basis)"
   ]
  },
  {
   "cell_type": "code",
   "execution_count": null,
   "metadata": {},
   "outputs": [],
   "source": []
  }
 ],
 "metadata": {
  "kernelspec": {
   "display_name": "Python 3",
   "language": "python",
   "name": "python3"
  },
  "language_info": {
   "codemirror_mode": {
    "name": "ipython",
    "version": 3
   },
   "file_extension": ".py",
   "mimetype": "text/x-python",
   "name": "python",
   "nbconvert_exporter": "python",
   "pygments_lexer": "ipython3",
   "version": "3.8.0"
  }
 },
 "nbformat": 4,
 "nbformat_minor": 2
}
